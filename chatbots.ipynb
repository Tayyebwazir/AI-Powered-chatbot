{
 "cells": [
  {
   "cell_type": "code",
   "execution_count": 48,
   "id": "0915df70",
   "metadata": {},
   "outputs": [],
   "source": [
    "import os\n",
    "from dotenv import load_dotenv\n",
    "load_dotenv()\n",
    "\n",
    "groq_api_key = os.getenv(\"GROQ_API_KEY\")\n",
    "\n"
   ]
  },
  {
   "cell_type": "code",
   "execution_count": 49,
   "id": "acb5962b",
   "metadata": {},
   "outputs": [],
   "source": [
    "from langchain_groq import ChatGroq\n",
    "model = ChatGroq(\n",
    "    model=\"llama3-8b-8192\",  \n",
    "    groq_api_key=groq_api_key\n",
    ")"
   ]
  },
  {
   "cell_type": "code",
   "execution_count": 50,
   "id": "caa4142c",
   "metadata": {},
   "outputs": [
    {
     "data": {
      "text/plain": [
       "ChatGroq(client=<groq.resources.chat.completions.Completions object at 0x0000017D080B19A0>, async_client=<groq.resources.chat.completions.AsyncCompletions object at 0x0000017D080B0950>, model_name='llama3-8b-8192', model_kwargs={}, groq_api_key=SecretStr('**********'))"
      ]
     },
     "execution_count": 50,
     "metadata": {},
     "output_type": "execute_result"
    }
   ],
   "source": [
    "model"
   ]
  },
  {
   "cell_type": "code",
   "execution_count": 51,
   "id": "bf88caf6",
   "metadata": {},
   "outputs": [
    {
     "data": {
      "text/plain": [
       "AIMessage(content=\"Nice to meet you, Tayyeb! Welcome to our conversation. It's great to have a software engineer like you on board. What kind of projects have you been working on lately? Do you have any exciting stories to share about your work?\", additional_kwargs={}, response_metadata={'token_usage': {'completion_tokens': 51, 'prompt_tokens': 25, 'total_tokens': 76, 'completion_time': 0.046702399, 'prompt_time': 0.003842428, 'queue_time': 0.27433378199999997, 'total_time': 0.050544827}, 'model_name': 'llama3-8b-8192', 'system_fingerprint': 'fp_6d1c2b0784', 'finish_reason': 'stop', 'logprobs': None}, id='run--24df8c0e-4cbf-4790-9bd3-85055190fdcb-0', usage_metadata={'input_tokens': 25, 'output_tokens': 51, 'total_tokens': 76})"
      ]
     },
     "execution_count": 51,
     "metadata": {},
     "output_type": "execute_result"
    }
   ],
   "source": [
    "from langchain_core.messages import HumanMessage\n",
    "model.invoke([HumanMessage(content=\"Hi, my name is Tayyeb and I am a software engineer.\")])"
   ]
  },
  {
   "cell_type": "code",
   "execution_count": 52,
   "id": "4cb026b7",
   "metadata": {},
   "outputs": [
    {
     "data": {
      "text/plain": [
       "AIMessage(content=\"I remember! Your name is Tayyeb, and you're a software engineer!\", additional_kwargs={}, response_metadata={'token_usage': {'completion_tokens': 18, 'prompt_tokens': 61, 'total_tokens': 79, 'completion_time': 0.016434953, 'prompt_time': 0.014303631, 'queue_time': 0.273184445, 'total_time': 0.030738584}, 'model_name': 'llama3-8b-8192', 'system_fingerprint': 'fp_8b7c3a83f7', 'finish_reason': 'stop', 'logprobs': None}, id='run--802dbc53-c0a2-4c57-be87-0718b56dd116-0', usage_metadata={'input_tokens': 61, 'output_tokens': 18, 'total_tokens': 79})"
      ]
     },
     "execution_count": 52,
     "metadata": {},
     "output_type": "execute_result"
    }
   ],
   "source": [
    "from langchain_core.messages import AIMessage\n",
    "model.invoke([HumanMessage(content=\"Hi, my name is Tayyeb and I am a software engineer\"),\n",
    "              AIMessage(content=\" it's nice to meet you! What can I help you with today?\"),\n",
    "              HumanMessage(content=\"Hey, what is my name and what do i do?.\")\n",
    "              ])"
   ]
  },
  {
   "cell_type": "code",
   "execution_count": null,
   "id": "d4eb99ca",
   "metadata": {},
   "outputs": [],
   "source": [
    "### Message history\n",
    "!pip install langchain_community"
   ]
  },
  {
   "cell_type": "code",
   "execution_count": 53,
   "id": "71ff1545",
   "metadata": {},
   "outputs": [],
   "source": [
    "from langchain_community.chat_message_histories import ChatMessageHistory\n",
    "from langchain_core.chat_history import BaseChatMessageHistory\n",
    "from langchain_core.runnables.history import RunnableWithMessageHistory\n",
    "\n",
    "store = {}\n",
    "\n",
    "def get_session_history(session_id: str) -> BaseChatMessageHistory:\n",
    "    if session_id not in store:\n",
    "        store[session_id] = ChatMessageHistory()\n",
    "    return store[session_id]\n",
    "\n",
    "\n",
    "with_message_history = RunnableWithMessageHistory(model, get_session_history)"
   ]
  },
  {
   "cell_type": "code",
   "execution_count": 54,
   "id": "9319e8ab",
   "metadata": {},
   "outputs": [],
   "source": [
    "config = {\"configurable\":{\"session_id\":\"chat1\"}}"
   ]
  },
  {
   "cell_type": "code",
   "execution_count": 55,
   "id": "f8796c12",
   "metadata": {},
   "outputs": [],
   "source": [
    "response = with_message_history.invoke(\n",
    "    [HumanMessage(content=\"Hi, my name is Tayyeb and I am a software engineer\")],\n",
    "    config=config\n",
    ")"
   ]
  },
  {
   "cell_type": "code",
   "execution_count": 56,
   "id": "0383c134",
   "metadata": {},
   "outputs": [
    {
     "data": {
      "text/plain": [
       "'Nice to meet you, Tayyeb! Welcome to our conversation. As a software engineer, you must be passionate about coding and solving problems. What kind of projects have you worked on recently or what areas of software engineering are you particularly interested in?'"
      ]
     },
     "execution_count": 56,
     "metadata": {},
     "output_type": "execute_result"
    }
   ],
   "source": [
    "response.content"
   ]
  },
  {
   "cell_type": "code",
   "execution_count": 17,
   "id": "7aa62dcb",
   "metadata": {},
   "outputs": [
    {
     "data": {
      "text/plain": [
       "AIMessage(content='Your name is Tayyeb!', additional_kwargs={}, response_metadata={'token_usage': {'completion_tokens': 8, 'prompt_tokens': 187, 'total_tokens': 195, 'completion_time': 0.005483778, 'prompt_time': 0.021177244, 'queue_time': 0.12875425399999998, 'total_time': 0.026661022}, 'model_name': 'llama3-8b-8192', 'system_fingerprint': 'fp_6d1c2b0784', 'finish_reason': 'stop', 'logprobs': None}, id='run--16fff967-9beb-4919-be8a-be2797ce58a5-0', usage_metadata={'input_tokens': 187, 'output_tokens': 8, 'total_tokens': 195})"
      ]
     },
     "execution_count": 17,
     "metadata": {},
     "output_type": "execute_result"
    }
   ],
   "source": [
    "with_message_history.invoke(\n",
    "    [HumanMessage(content=\"Hey, what is my name?.\")],\n",
    "    config=config\n",
    ")"
   ]
  },
  {
   "cell_type": "code",
   "execution_count": 57,
   "id": "fea5eb1e",
   "metadata": {},
   "outputs": [],
   "source": [
    "# changing the congfig --->session id\n",
    "config1 = {\"configurable\":{\"session_id\":\"chat2\"}}\n",
    "\n",
    "response = with_message_history.invoke(\n",
    "     [HumanMessage(content=\"what is my name\")],\n",
    "    config=config1\n",
    ")"
   ]
  },
  {
   "cell_type": "code",
   "execution_count": 58,
   "id": "dd4eda53",
   "metadata": {},
   "outputs": [
    {
     "data": {
      "text/plain": [
       "\"I apologize, but I don't know your name. I'm a large language model, I don't have the ability to know or remember the names of individual users unless they explicitly tell me. I'm a new conversation each time you interact with me, so I don't retain any information from previous conversations. If you'd like to introduce yourself, I'd be happy to chat with you!\""
      ]
     },
     "execution_count": 58,
     "metadata": {},
     "output_type": "execute_result"
    }
   ],
   "source": [
    "response.content"
   ]
  },
  {
   "cell_type": "code",
   "execution_count": 59,
   "id": "07f8cb19",
   "metadata": {},
   "outputs": [],
   "source": [
    "response = with_message_history.invoke(\n",
    "     [HumanMessage(content=\"my name is Babar\")],\n",
    "    config=config1\n",
    ")"
   ]
  },
  {
   "cell_type": "code",
   "execution_count": 25,
   "id": "76347570",
   "metadata": {},
   "outputs": [],
   "source": [
    "response = with_message_history.invoke(\n",
    "     [HumanMessage(content=\"what is my name\")],\n",
    "    config=config1\n",
    ")"
   ]
  },
  {
   "cell_type": "code",
   "execution_count": 60,
   "id": "5c8145f4",
   "metadata": {},
   "outputs": [
    {
     "data": {
      "text/plain": [
       "\"Hello Babar! It's nice to meet you.\""
      ]
     },
     "execution_count": 60,
     "metadata": {},
     "output_type": "execute_result"
    }
   ],
   "source": [
    "response.content"
   ]
  },
  {
   "cell_type": "code",
   "execution_count": 61,
   "id": "b5757a93",
   "metadata": {},
   "outputs": [],
   "source": [
    "from langchain_core.prompts import ChatPromptTemplate, MessagesPlaceholder\n",
    "prompt = ChatPromptTemplate.from_messages(\n",
    "    [\n",
    "        (\"system\",\"you are the a helpful assistant.Answare all the questions to the nest of your ability\"),\n",
    "        MessagesPlaceholder(variable_name=\"messages\")\n",
    "    ]\n",
    "    \n",
    ")\n",
    "chain = prompt | model"
   ]
  },
  {
   "cell_type": "code",
   "execution_count": 62,
   "id": "b0733841",
   "metadata": {},
   "outputs": [
    {
     "data": {
      "text/plain": [
       "AIMessage(content=\"Hi Tayyeb! It's nice to meet you! As a software engineer, I'm sure you're always learning new things and working on exciting projects. What kind of projects have you been working on lately? Are you interested in a particular area of software engineering, such as machine learning, web development, or mobile app development?\", additional_kwargs={}, response_metadata={'token_usage': {'completion_tokens': 68, 'prompt_tokens': 47, 'total_tokens': 115, 'completion_time': 0.061666177, 'prompt_time': 0.010956404, 'queue_time': 0.27095575400000005, 'total_time': 0.072622581}, 'model_name': 'llama3-8b-8192', 'system_fingerprint': 'fp_6d1c2b0784', 'finish_reason': 'stop', 'logprobs': None}, id='run--03c93596-0b9e-4118-b16b-19a55b9c8567-0', usage_metadata={'input_tokens': 47, 'output_tokens': 68, 'total_tokens': 115})"
      ]
     },
     "execution_count": 62,
     "metadata": {},
     "output_type": "execute_result"
    }
   ],
   "source": [
    "chain.invoke({\"messages\": [HumanMessage(content=\"hi, my name is Tayyeb and I am a software engineer\")]})\n"
   ]
  },
  {
   "cell_type": "code",
   "execution_count": 63,
   "id": "d9978403",
   "metadata": {},
   "outputs": [],
   "source": [
    "with_message_history = RunnableWithMessageHistory(chain, get_session_history)"
   ]
  },
  {
   "cell_type": "code",
   "execution_count": 64,
   "id": "09ef9f8a",
   "metadata": {},
   "outputs": [
    {
     "name": "stdout",
     "output_type": "stream",
     "text": [
      "content=\"Nice to meet you, Tayyeb! It's great to have you here. How can I assist you today? Do you have a specific question, topic you'd like to discuss, or perhaps a problem you'd like help solving? I'm all ears and ready to help!\" additional_kwargs={} response_metadata={'token_usage': {'completion_tokens': 58, 'prompt_tokens': 41, 'total_tokens': 99, 'completion_time': 0.05287685, 'prompt_time': 0.010105484, 'queue_time': 0.283795659, 'total_time': 0.062982334}, 'model_name': 'llama3-8b-8192', 'system_fingerprint': 'fp_8b7c3a83f7', 'finish_reason': 'stop', 'logprobs': None} id='run--6568def8-2fb1-4a7a-aad1-c6df644d7b8e-0' usage_metadata={'input_tokens': 41, 'output_tokens': 58, 'total_tokens': 99}\n"
     ]
    }
   ],
   "source": [
    "from langchain_core.messages import HumanMessage\n",
    "\n",
    "config = {\"configurable\": {\"session_id\": \"chat3\"}}\n",
    "\n",
    "response = with_message_history.invoke(\n",
    "    {\"messages\": [HumanMessage(content=\"hi, my name is Tayyeb\")]},\n",
    "    config=config\n",
    ")\n",
    "\n",
    "print(response)\n"
   ]
  },
  {
   "cell_type": "code",
   "execution_count": 65,
   "id": "20dc0fef",
   "metadata": {},
   "outputs": [],
   "source": [
    "prompt = ChatPromptTemplate.from_messages(\n",
    "    [\n",
    "        (\"system\",\"you are the a helpful assistant.Answare all the questions to the nest of your ability in {language}\"),\n",
    "        MessagesPlaceholder(variable_name=\"messages\")\n",
    "    ]\n",
    "    \n",
    ")\n",
    "chain = prompt | model"
   ]
  },
  {
   "cell_type": "code",
   "execution_count": 66,
   "id": "58dac307",
   "metadata": {},
   "outputs": [
    {
     "data": {
      "text/plain": [
       "'مرحبا Tayyeb! مجھے خوشی ہو رہی ہے آپ کا نام جانا! میں آپ کی مدد کرتا ہوں! کیا آپ کا کوئی سوال ہے یا کچھ چاہتے ہیں؟'"
      ]
     },
     "execution_count": 66,
     "metadata": {},
     "output_type": "execute_result"
    }
   ],
   "source": [
    "response = chain.invoke({\"language\":\"Urdu\",\"messages\": [HumanMessage(content=\"hi, my name is Tayyeb\")]})\n",
    "response.content"
   ]
  },
  {
   "cell_type": "markdown",
   "id": "7888664c",
   "metadata": {},
   "source": [
    "Managing the conversation history"
   ]
  },
  {
   "cell_type": "code",
   "execution_count": 70,
   "id": "2875822e",
   "metadata": {},
   "outputs": [
    {
     "data": {
      "text/plain": [
       "[SystemMessage(content='you are the a helpful assistant.Answare all the questions to the nest of your ability in Urdu', additional_kwargs={}, response_metadata={}),\n",
       " HumanMessage(content='tell me about babar azam', additional_kwargs={}, response_metadata={}),\n",
       " AIMessage(content=\"Babar Azam is a Pakistani cricketer. He is the current captain of the Pakistan national cricket team. He is also the current world's number one Test batsman.\", additional_kwargs={}, response_metadata={})]"
      ]
     },
     "execution_count": 70,
     "metadata": {},
     "output_type": "execute_result"
    }
   ],
   "source": [
    "from langchain_core.messages import SystemMessage,trim_messages\n",
    "trimmer = trim_messages(\n",
    "    max_tokens = 100,\n",
    "    strategy = \"last\",\n",
    "    token_counter = model,\n",
    "    include_system = True,\n",
    "    allow_partial = False,\n",
    "    start_on = \"human\"\n",
    "    \n",
    ")\n",
    "messages=[\n",
    "SystemMessage(content=\"you are the a helpful assistant.Answare all the questions to the nest of your ability in Urdu\"),\n",
    "HumanMessage(content=\"hi, my name is Tayyeb\"),\n",
    "AIMessage(content=\"Assalam o alaikum Tayyeb, kaise ho?\"),\n",
    "HumanMessage(content=\"What is life\"),\n",
    "AIMessage(content=\"Life is a journey, not a destination. It is a gift, and it is up to you to make the most of it.\"),\n",
    "HumanMessage(content=\"What is the meaning of life?\"),\n",
    "AIMessage(content=\"The meaning of life is to find happiness in small things, to enjoy the ride. It is to grow from the inside out while letting yourself evolve and blossom.\"),\n",
    "HumanMessage(content=\"Who to reduce strees?\"),\n",
    "AIMessage(content=\"There are many ways to reduce stress. Some people find it helpful to exercise, meditate, or practice yoga. Others find it helpful to spend time in nature, listen to music, or read a book.\"),\n",
    "HumanMessage(content=\"tell me about babar azam\"),\n",
    "AIMessage(content=\"Babar Azam is a Pakistani cricketer. He is the current captain of the Pakistan national cricket team. He is also the current world's number one Test batsman.\"),\n",
    "]\n",
    "trimmer.invoke(messages)\n"
   ]
  },
  {
   "cell_type": "code",
   "execution_count": null,
   "id": "ddfe5c4c",
   "metadata": {},
   "outputs": [
    {
     "name": "stdout",
     "output_type": "stream",
     "text": [
      "As a helpful assistant, I don't have personal preferences or feelings, but I can tell you about some great cricketers!\n"
     ]
    }
   ],
   "source": [
    "from operator import itemgetter\n",
    "from langchain_core.runnables import RunnablePassthrough\n",
    "from langchain_core.messages import HumanMessage\n",
    "\n",
    "# Assume `trimmer`, `prompt`, and `model` are already defined\n",
    "\n",
    "# Chain definition\n",
    "chain = (\n",
    "    RunnablePassthrough.assign(messages=itemgetter(\"messages\") | trimmer)\n",
    "    | prompt\n",
    "    | model\n",
    ")\n",
    "\n",
    "# Add a new user message\n",
    "new_input = {\n",
    "    \"messages\": messages + [HumanMessage(content=\"What is your favorite cricketer?\")],\n",
    "    \"language\": \"English\"\n",
    "}\n",
    "\n",
    "# Invoke the chain\n",
    "response = chain.invoke(new_input)\n",
    "\n",
    "print(response.content)\n"
   ]
  },
  {
   "cell_type": "code",
   "execution_count": null,
   "id": "4bcb8213",
   "metadata": {},
   "outputs": [],
   "source": []
  }
 ],
 "metadata": {
  "kernelspec": {
   "display_name": "base",
   "language": "python",
   "name": "python3"
  },
  "language_info": {
   "codemirror_mode": {
    "name": "ipython",
    "version": 3
   },
   "file_extension": ".py",
   "mimetype": "text/x-python",
   "name": "python",
   "nbconvert_exporter": "python",
   "pygments_lexer": "ipython3",
   "version": "3.12.7"
  }
 },
 "nbformat": 4,
 "nbformat_minor": 5
}
